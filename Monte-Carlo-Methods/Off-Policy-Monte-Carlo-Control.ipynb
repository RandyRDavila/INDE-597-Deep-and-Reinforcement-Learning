{
 "cells": [
  {
   "cell_type": "markdown",
   "metadata": {},
   "source": [
    "# Off-Policy Monte Carlo Control \n",
    "\n",
    "\n",
    "\n",
    "<img src=\"images/off-policy-mc-control.png\" width=\"900\" height=\"480\" >\n",
    "\n",
    "In the following code cell we implement this algorithm. "
   ]
  },
  {
   "cell_type": "code",
   "execution_count": 1,
   "metadata": {},
   "outputs": [],
   "source": [
    "from custom_classes import GreedyPolicy\n",
    "import numpy as np\n",
    "\n",
    "def off_policy_monte_carlo_control(env, behavior_policy, gamma=1.0, max_episodes=10_000):\n",
    "    Q = {state : {action : 0.0 for action in env.actions} for state in env.state_space}\n",
    "    C = {state : {action : 0.0 for action in env.actions} for state in env.state_space}\n",
    "    target_policy_mapping = {state: np.argmax(Q[state]) for state in env.state_space}\n",
    "    target_policy = GreedyPolicy(env, target_policy_mapping)\n",
    "    for _ in range(max_episodes):\n",
    "        episode = []\n",
    "        state = env.reset()\n",
    "        done = False\n",
    "        while not done:\n",
    "            action = behavior_policy(state)\n",
    "            next_state, reward, done, _, _ = env.step(action)\n",
    "            episode.append((state, action, reward))\n",
    "            state = next_state\n",
    "        G = 0\n",
    "        W = 1\n",
    "        for t in range(len(episode) - 1, -1, -1):\n",
    "            state, action, reward = episode[t]\n",
    "            G = gamma * G + reward\n",
    "            C[state][action] += W\n",
    "            Q[state][action] += (W / C[state][action]) * (G - Q[state][action])\n",
    "            target_policy.mapping[state] = Q[state]\n",
    "            if action != target_policy(state):\n",
    "                break\n",
    "            W /= behavior_policy.prob(state, action)\n",
    "\n",
    "\n",
    "    return target_policy_mapping, Q"
   ]
  },
  {
   "cell_type": "code",
   "execution_count": 2,
   "metadata": {},
   "outputs": [
    {
     "ename": "TypeError",
     "evalue": "unhashable type: 'dict'",
     "output_type": "error",
     "traceback": [
      "\u001b[0;31m---------------------------------------------------------------------------\u001b[0m",
      "\u001b[0;31mTypeError\u001b[0m                                 Traceback (most recent call last)",
      "Input \u001b[0;32mIn [2]\u001b[0m, in \u001b[0;36m<cell line: 10>\u001b[0;34m()\u001b[0m\n\u001b[1;32m      7\u001b[0m env\u001b[38;5;241m.\u001b[39mreset()\n\u001b[1;32m      9\u001b[0m behavior_policy \u001b[38;5;241m=\u001b[39m RandomPolicy(env)\n\u001b[0;32m---> 10\u001b[0m target_policy_mapping, Q \u001b[38;5;241m=\u001b[39m \u001b[43moff_policy_monte_carlo_control\u001b[49m\u001b[43m(\u001b[49m\u001b[43menv\u001b[49m\u001b[43m,\u001b[49m\u001b[43m \u001b[49m\u001b[43mbehavior_policy\u001b[49m\u001b[43m)\u001b[49m\n",
      "Input \u001b[0;32mIn [1]\u001b[0m, in \u001b[0;36moff_policy_monte_carlo_control\u001b[0;34m(env, behavior_policy, gamma, max_episodes)\u001b[0m\n\u001b[1;32m     21\u001b[0m state, action, reward \u001b[38;5;241m=\u001b[39m episode[t]\n\u001b[1;32m     22\u001b[0m G \u001b[38;5;241m=\u001b[39m gamma \u001b[38;5;241m*\u001b[39m G \u001b[38;5;241m+\u001b[39m reward\n\u001b[0;32m---> 23\u001b[0m \u001b[43mC\u001b[49m\u001b[43m[\u001b[49m\u001b[43mstate\u001b[49m\u001b[43m]\u001b[49m[action] \u001b[38;5;241m+\u001b[39m\u001b[38;5;241m=\u001b[39m W\n\u001b[1;32m     24\u001b[0m Q[state][action] \u001b[38;5;241m+\u001b[39m\u001b[38;5;241m=\u001b[39m (W \u001b[38;5;241m/\u001b[39m C[state][action]) \u001b[38;5;241m*\u001b[39m (G \u001b[38;5;241m-\u001b[39m Q[state][action])\n\u001b[1;32m     25\u001b[0m target_policy\u001b[38;5;241m.\u001b[39mmapping[state] \u001b[38;5;241m=\u001b[39m Q[state]\n",
      "\u001b[0;31mTypeError\u001b[0m: unhashable type: 'dict'"
     ]
    }
   ],
   "source": [
    "from custom_classes import CustomFrozenLakeEnv, RandomPolicy\n",
    "import numpy as np\n",
    "import matplotlib.pyplot as plt\n",
    "\n",
    "\n",
    "env = CustomFrozenLakeEnv()\n",
    "env.reset()\n",
    "\n",
    "behavior_policy = RandomPolicy(env)\n",
    "target_policy_mapping, Q = off_policy_monte_carlo_control(env, behavior_policy)\n",
    "\n"
   ]
  },
  {
   "cell_type": "code",
   "execution_count": null,
   "metadata": {},
   "outputs": [],
   "source": []
  }
 ],
 "metadata": {
  "kernelspec": {
   "display_name": "Python 3",
   "language": "python",
   "name": "python3"
  },
  "language_info": {
   "codemirror_mode": {
    "name": "ipython",
    "version": 3
   },
   "file_extension": ".py",
   "mimetype": "text/x-python",
   "name": "python",
   "nbconvert_exporter": "python",
   "pygments_lexer": "ipython3",
   "version": "3.9.12"
  }
 },
 "nbformat": 4,
 "nbformat_minor": 2
}
