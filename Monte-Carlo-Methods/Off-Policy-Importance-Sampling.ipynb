{
 "cells": [
  {
   "cell_type": "markdown",
   "metadata": {},
   "source": []
  },
  {
   "cell_type": "code",
   "execution_count": 4,
   "metadata": {},
   "outputs": [
    {
     "name": "stdout",
     "output_type": "stream",
     "text": [
      "Player's hand: ['2', 'Ace'] with sum: 13\n",
      "Dealer's showing card: 2\n"
     ]
    }
   ],
   "source": [
    "import matplotlib.pyplot as plt\n",
    "import numpy as np\n",
    "\n",
    "from custom_classes import CustomBlackjackEnv\n",
    "\n",
    "env = CustomBlackjackEnv()\n",
    "starting_state = (13, 2, True)\n",
    "\n",
    "env.reset(observation=starting_state)\n",
    "\n",
    "env.render()"
   ]
  },
  {
   "cell_type": "code",
   "execution_count": 8,
   "metadata": {},
   "outputs": [
    {
     "name": "stdout",
     "output_type": "stream",
     "text": [
      "Average return: -0.17714315018083826\n"
     ]
    }
   ],
   "source": [
    "target_probability = {state : [1.0, 0.0] if int(state[0] >= 20) else [0.0, 1.0] for state in env.state_space}\n",
    "behavior_policy = {state : [0.5, 0.5] for state in env.state_space}\n",
    "\n",
    "returns = []\n",
    "for episode in range(1_000_000):\n",
    "    episode_return = 0\n",
    "    state = env.reset(observation=starting_state)\n",
    "    done = False\n",
    "    while not done:\n",
    "        action = np.random.choice([0, 1], p=behavior_policy[state])\n",
    "        next_state, reward, done = env.step(action)\n",
    "        state = next_state\n",
    "        episode_return += reward\n",
    "    returns.append(episode_return)\n",
    "\n",
    "returns = np.array(returns)\n",
    "print('Average random policy return:', returns.mean())"
   ]
  },
  {
   "cell_type": "code",
   "execution_count": 24,
   "metadata": {},
   "outputs": [
    {
     "name": "stdout",
     "output_type": "stream",
     "text": [
      "Average target policy returns: -0.282934\n"
     ]
    }
   ],
   "source": [
    "returns = []\n",
    "for episode in range(500_000):\n",
    "    episode_return = 0\n",
    "    state = env.reset(observation=starting_state)\n",
    "    done = False\n",
    "    while not done:\n",
    "        action = np.random.choice([0, 1], p=target_probability[state])\n",
    "        next_state, reward, done = env.step(action)\n",
    "        state = next_state\n",
    "        episode_return += reward\n",
    "    returns.append(episode_return)\n",
    "\n",
    "returns = np.array(returns)\n",
    "print('Average target policy returns:', returns.mean())"
   ]
  },
  {
   "cell_type": "code",
   "execution_count": 23,
   "metadata": {},
   "outputs": [
    {
     "name": "stdout",
     "output_type": "stream",
     "text": [
      "Average ordinary importance sampling return: -0.276528\n"
     ]
    }
   ],
   "source": [
    "# Ordinary Importance Sampling\n",
    "returns = []\n",
    "for _ in range(500_000):\n",
    "    episode_return = 0\n",
    "    state = env.reset(observation=starting_state)\n",
    "    done = False\n",
    "    importance_weight = 1\n",
    "    while not done:\n",
    "        action = np.random.choice([0, 1], p=behavior_policy[state])\n",
    "        next_state, reward, done = env.step(action)\n",
    "        importance_weight *= target_probability[state][action] / behavior_policy[state][action]\n",
    "        state = next_state\n",
    "        episode_return += importance_weight * reward\n",
    "    returns.append(episode_return)\n",
    "\n",
    "returns = np.array(returns)\n",
    "print('Average ordinary importance sampling return:', returns.mean())"
   ]
  },
  {
   "cell_type": "code",
   "execution_count": null,
   "metadata": {},
   "outputs": [],
   "source": []
  }
 ],
 "metadata": {
  "kernelspec": {
   "display_name": "base",
   "language": "python",
   "name": "python3"
  },
  "language_info": {
   "codemirror_mode": {
    "name": "ipython",
    "version": 3
   },
   "file_extension": ".py",
   "mimetype": "text/x-python",
   "name": "python",
   "nbconvert_exporter": "python",
   "pygments_lexer": "ipython3",
   "version": "3.11.5"
  }
 },
 "nbformat": 4,
 "nbformat_minor": 2
}
