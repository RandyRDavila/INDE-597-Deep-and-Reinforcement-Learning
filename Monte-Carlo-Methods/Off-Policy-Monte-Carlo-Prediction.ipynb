{
 "cells": [
  {
   "cell_type": "code",
   "execution_count": 1,
   "metadata": {},
   "outputs": [],
   "source": [
    "import numpy as np\n",
    "\n",
    "def off_policy_monte_carlo_prediction(env, target_policy, behavior_policy, num_episodes, gamma=1.0):\n",
    "    Q = {state : {action : 0.0 for action in env.action_space} for state in env.state_space}\n",
    "    C = {state : {action : 0.0 for action in env.action_space} for state in env.state_space}\n",
    "\n",
    "    for _ in range(num_episodes):\n",
    "        episode = []\n",
    "        state = env.reset()\n",
    "        action = behavior_policy(state)\n",
    "        while True:\n",
    "            next_state, reward, done = env.step(action)\n",
    "            episode.append((state, action, reward))\n",
    "            if done:\n",
    "                break\n",
    "            state = next_state\n",
    "            action = behavior_policy(state)\n",
    "\n",
    "        G = 0\n",
    "        W = 1\n",
    "        for t in range(len(episode) - 1, -1, -1):\n",
    "            state, action, reward = episode[t]\n",
    "            G = gamma * G + reward\n",
    "            C[state][action] += W\n",
    "            Q[state][action] += (W / C[state][action]) * (G - Q[state][action])\n",
    "            W = W * (target_policy.prob(state, action) / behavior_policy.prob(state, action))\n",
    "            if W == 0:\n",
    "                break\n",
    "    return Q"
   ]
  },
  {
   "cell_type": "code",
   "execution_count": 2,
   "metadata": {},
   "outputs": [],
   "source": [
    "from custom_classes import CustomBlackjackEnv, Policy\n",
    "env = CustomBlackjackEnv()\n",
    "\n",
    "# Behavior policy: random\n",
    "b = Policy(env, {state : [1/env.action_space.n for _ in range(env.action_space.n)] for state in env.state_space})\n",
    "# Target policy: stick if sum of cards >= 20, hit otherwise\n",
    "pi = Policy(env, {state : [1.0, 0.0] if state[0] >= 20 else [0.0, 1.0] for state in env.state_space})\n",
    "\n",
    "Q = off_policy_monte_carlo_prediction(env, pi, b, num_episodes=100_000)\n"
   ]
  },
  {
   "cell_type": "code",
   "execution_count": null,
   "metadata": {},
   "outputs": [],
   "source": []
  }
 ],
 "metadata": {
  "kernelspec": {
   "display_name": "base",
   "language": "python",
   "name": "python3"
  },
  "language_info": {
   "codemirror_mode": {
    "name": "ipython",
    "version": 3
   },
   "file_extension": ".py",
   "mimetype": "text/x-python",
   "name": "python",
   "nbconvert_exporter": "python",
   "pygments_lexer": "ipython3",
   "version": "3.11.5"
  }
 },
 "nbformat": 4,
 "nbformat_minor": 2
}
