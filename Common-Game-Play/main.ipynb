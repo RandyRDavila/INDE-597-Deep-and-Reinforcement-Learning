{
 "cells": [
  {
   "cell_type": "code",
   "execution_count": 5,
   "metadata": {},
   "outputs": [
    {
     "name": "stdout",
     "output_type": "stream",
     "text": [
      "╒═══╤═══╤═══╕\n",
      "│ - │ - │ - │\n",
      "├───┼───┼───┤\n",
      "│ - │ - │ - │\n",
      "├───┼───┼───┤\n",
      "│ - │ - │ - │\n",
      "╘═══╧═══╧═══╛\n",
      "╒═══╤═══╤═══╕\n",
      "│ X │ - │ - │\n",
      "├───┼───┼───┤\n",
      "│ - │ - │ - │\n",
      "├───┼───┼───┤\n",
      "│ - │ - │ - │\n",
      "╘═══╧═══╧═══╛\n",
      "╒═══╤═══╤═══╕\n",
      "│ X │ - │ - │\n",
      "├───┼───┼───┤\n",
      "│ - │ O │ - │\n",
      "├───┼───┼───┤\n",
      "│ - │ - │ - │\n",
      "╘═══╧═══╧═══╛\n",
      "╒═══╤═══╤═══╕\n",
      "│ X │ - │ - │\n",
      "├───┼───┼───┤\n",
      "│ - │ O │ - │\n",
      "├───┼───┼───┤\n",
      "│ - │ - │ X │\n",
      "╘═══╧═══╧═══╛\n",
      "╒═══╤═══╤═══╕\n",
      "│ X │ - │ O │\n",
      "├───┼───┼───┤\n",
      "│ - │ O │ - │\n",
      "├───┼───┼───┤\n",
      "│ - │ - │ X │\n",
      "╘═══╧═══╧═══╛\n",
      "╒═══╤═══╤═══╕\n",
      "│ X │ X │ O │\n",
      "├───┼───┼───┤\n",
      "│ - │ O │ - │\n",
      "├───┼───┼───┤\n",
      "│ - │ - │ X │\n",
      "╘═══╧═══╧═══╛\n",
      "╒═══╤═══╤═══╕\n",
      "│ X │ X │ O │\n",
      "├───┼───┼───┤\n",
      "│ O │ O │ - │\n",
      "├───┼───┼───┤\n",
      "│ - │ - │ X │\n",
      "╘═══╧═══╧═══╛\n",
      "╒═══╤═══╤═══╕\n",
      "│ X │ X │ O │\n",
      "├───┼───┼───┤\n",
      "│ O │ O │ - │\n",
      "├───┼───┼───┤\n",
      "│ X │ - │ X │\n",
      "╘═══╧═══╧═══╛\n",
      "╒═══╤═══╤═══╕\n",
      "│ X │ X │ O │\n",
      "├───┼───┼───┤\n",
      "│ O │ O │ O │\n",
      "├───┼───┼───┤\n",
      "│ X │ - │ X │\n",
      "╘═══╧═══╧═══╛\n",
      "Game Over\n",
      "Winner:  Player.B\n"
     ]
    }
   ],
   "source": [
    "from tictactoe_logic import tictactoe_logic\n",
    "from board_classes import GameBoard\n",
    "from board_playing import play_random_game\n",
    "\n",
    "board = GameBoard(tictactoe_logic)\n",
    "\n",
    "play_random_game(board, render=True)"
   ]
  },
  {
   "cell_type": "code",
   "execution_count": null,
   "metadata": {},
   "outputs": [],
   "source": []
  }
 ],
 "metadata": {
  "kernelspec": {
   "display_name": "Python 3",
   "language": "python",
   "name": "python3"
  },
  "language_info": {
   "codemirror_mode": {
    "name": "ipython",
    "version": 3
   },
   "file_extension": ".py",
   "mimetype": "text/x-python",
   "name": "python",
   "nbconvert_exporter": "python",
   "pygments_lexer": "ipython3",
   "version": "3.9.12"
  }
 },
 "nbformat": 4,
 "nbformat_minor": 2
}
