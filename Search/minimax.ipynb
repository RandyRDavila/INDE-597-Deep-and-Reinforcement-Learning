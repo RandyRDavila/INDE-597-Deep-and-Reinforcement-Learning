{
 "cells": [
  {
   "cell_type": "code",
   "execution_count": 10,
   "metadata": {},
   "outputs": [],
   "source": [
    "import numpy as np\n",
    "from tabulate import tabulate\n",
    "\n",
    "class TicTacToeEnv:\n",
    "    def __init__(self):\n",
    "        self.board = None\n",
    "        self.current_player = None\n",
    "        self.reset()\n",
    "\n",
    "    def reset(self):\n",
    "        self.board = np.zeros((3, 3), dtype=int)\n",
    "        self.current_player = 1  # Player 1 starts\n",
    "        return self.board\n",
    "\n",
    "    def step(self, action):\n",
    "        row, col = action\n",
    "        if self.board[row, col] == 0:\n",
    "            self.board[row, col] = self.current_player\n",
    "            if self.is_winner(self.current_player):\n",
    "                return self.board, self.current_player, True, {}\n",
    "            elif self.is_draw():\n",
    "                return self.board, 0, True, {}\n",
    "            else:\n",
    "                self.current_player = 3 - self.current_player  # Switch player\n",
    "                return self.board, None, False, {}\n",
    "        else:\n",
    "            print(\"Invalid action!\")\n",
    "            return self.board, None, False, {'message': 'Invalid action'}\n",
    "\n",
    "    def render(self):\n",
    "        board = np.zeros((3, 3), dtype=str)\n",
    "        for ii in range(3):\n",
    "            for jj in range(3):\n",
    "                if self.board[ii][jj] == 0:\n",
    "                    board[ii, jj] = \"-\"\n",
    "                elif self.board[ii][jj] == 1:\n",
    "                    board[ii, jj] = \"X\"\n",
    "                elif self.board[ii][jj] == 2:\n",
    "                    board[ii, jj] = \"O\"\n",
    "        board = tabulate(board, tablefmt=\"fancy_grid\")\n",
    "        print(board)\n",
    "\n",
    "    def is_winner(self, player):\n",
    "        # Check rows, columns, and diagonals\n",
    "        for i in range(3):\n",
    "            if all(self.board[i, :] == player) or all(self.board[:, i] == player):\n",
    "                return True\n",
    "        if self.board[0, 0] == self.board[1, 1] == self.board[2, 2] == player or \\\n",
    "           self.board[0, 2] == self.board[1, 1] == self.board[2, 0] == player:\n",
    "            return True\n",
    "        return False\n",
    "\n",
    "    def is_draw(self):\n",
    "        return np.all(self.board != 0)\n",
    "\n",
    "    def available_actions(self):\n",
    "        return [(row, col) for row in range(3) for col in range(3) if self.board[row, col] == 0]\n",
    "\n",
    "    def check_move_result(self, action):\n",
    "        row, col = action\n",
    "        # Temporarily make the move on a copy of the board\n",
    "        temp_board = np.copy(self.board)\n",
    "        temp_board[row, col] = self.current_player\n",
    "        if self.is_winner(self.current_player, temp_board):\n",
    "            return 1.0\n",
    "        elif self.is_draw(temp_board):\n",
    "            return 0.0\n",
    "        else:\n",
    "            return 0.0\n"
   ]
  },
  {
   "cell_type": "code",
   "execution_count": 11,
   "metadata": {},
   "outputs": [
    {
     "name": "stdout",
     "output_type": "stream",
     "text": [
      "╒═══╤═══╤═══╕\n",
      "│ X │ - │ - │\n",
      "├───┼───┼───┤\n",
      "│ - │ - │ - │\n",
      "├───┼───┼───┤\n",
      "│ - │ - │ - │\n",
      "╘═══╧═══╧═══╛\n"
     ]
    }
   ],
   "source": [
    "# Create an instance of the TicTacToe environment\n",
    "env = TicTacToeEnv()\n",
    "\n",
    "# Reset the game to its initial state\n",
    "env.reset()\n",
    "\n",
    "# Making a move; for example, player 1 places an 'X' at position (0, 0)\n",
    "state, reward, done, info = env.step((0, 0))\n",
    "\n",
    "# Render the board after the first move\n",
    "env.render()\n",
    "\n"
   ]
  },
  {
   "cell_type": "code",
   "execution_count": 12,
   "metadata": {},
   "outputs": [
    {
     "ename": "TypeError",
     "evalue": "is_winner() takes 2 positional arguments but 3 were given",
     "output_type": "error",
     "traceback": [
      "\u001b[0;31m---------------------------------------------------------------------------\u001b[0m",
      "\u001b[0;31mTypeError\u001b[0m                                 Traceback (most recent call last)",
      "Input \u001b[0;32mIn [12]\u001b[0m, in \u001b[0;36m<cell line: 1>\u001b[0;34m()\u001b[0m\n\u001b[0;32m----> 1\u001b[0m \u001b[43menv\u001b[49m\u001b[38;5;241;43m.\u001b[39;49m\u001b[43mcheck_move_result\u001b[49m\u001b[43m(\u001b[49m\u001b[43m(\u001b[49m\u001b[38;5;241;43m1\u001b[39;49m\u001b[43m,\u001b[49m\u001b[43m \u001b[49m\u001b[38;5;241;43m0\u001b[39;49m\u001b[43m)\u001b[49m\u001b[43m)\u001b[49m\n",
      "Input \u001b[0;32mIn [10]\u001b[0m, in \u001b[0;36mTicTacToeEnv.check_move_result\u001b[0;34m(self, action)\u001b[0m\n\u001b[1;32m     62\u001b[0m temp_board \u001b[38;5;241m=\u001b[39m np\u001b[38;5;241m.\u001b[39mcopy(\u001b[38;5;28mself\u001b[39m\u001b[38;5;241m.\u001b[39mboard)\n\u001b[1;32m     63\u001b[0m temp_board[row, col] \u001b[38;5;241m=\u001b[39m \u001b[38;5;28mself\u001b[39m\u001b[38;5;241m.\u001b[39mcurrent_player\n\u001b[0;32m---> 64\u001b[0m \u001b[38;5;28;01mif\u001b[39;00m \u001b[38;5;28;43mself\u001b[39;49m\u001b[38;5;241;43m.\u001b[39;49m\u001b[43mis_winner\u001b[49m\u001b[43m(\u001b[49m\u001b[38;5;28;43mself\u001b[39;49m\u001b[38;5;241;43m.\u001b[39;49m\u001b[43mcurrent_player\u001b[49m\u001b[43m,\u001b[49m\u001b[43m \u001b[49m\u001b[43mtemp_board\u001b[49m\u001b[43m)\u001b[49m:\n\u001b[1;32m     65\u001b[0m     \u001b[38;5;28;01mreturn\u001b[39;00m \u001b[38;5;241m1.0\u001b[39m\n\u001b[1;32m     66\u001b[0m \u001b[38;5;28;01melif\u001b[39;00m \u001b[38;5;28mself\u001b[39m\u001b[38;5;241m.\u001b[39mis_draw(temp_board):\n",
      "\u001b[0;31mTypeError\u001b[0m: is_winner() takes 2 positional arguments but 3 were given"
     ]
    }
   ],
   "source": [
    "env.check_move_result((1, 0))"
   ]
  },
  {
   "cell_type": "code",
   "execution_count": 5,
   "metadata": {},
   "outputs": [
    {
     "name": "stdout",
     "output_type": "stream",
     "text": [
      "[1. 0. 0.]\n",
      "[0. 0. 0.]\n",
      "[0. 0. 0.]\n",
      "\n"
     ]
    }
   ],
   "source": [
    "step(board, 1, (0,0))\n",
    "print_board(board)"
   ]
  },
  {
   "cell_type": "code",
   "execution_count": 6,
   "metadata": {},
   "outputs": [
    {
     "name": "stdout",
     "output_type": "stream",
     "text": [
      "[ 1. -1.  0.]\n",
      "[0. 0. 0.]\n",
      "[0. 0. 0.]\n",
      "\n"
     ]
    }
   ],
   "source": [
    "step(board, -1, (0,1))\n",
    "print_board(board)"
   ]
  },
  {
   "cell_type": "code",
   "execution_count": 7,
   "metadata": {},
   "outputs": [
    {
     "data": {
      "text/plain": [
       "False"
      ]
     },
     "execution_count": 7,
     "metadata": {},
     "output_type": "execute_result"
    }
   ],
   "source": [
    "check_draw(board)\n"
   ]
  },
  {
   "cell_type": "code",
   "execution_count": null,
   "metadata": {},
   "outputs": [],
   "source": []
  }
 ],
 "metadata": {
  "kernelspec": {
   "display_name": "Python 3",
   "language": "python",
   "name": "python3"
  },
  "language_info": {
   "codemirror_mode": {
    "name": "ipython",
    "version": 3
   },
   "file_extension": ".py",
   "mimetype": "text/x-python",
   "name": "python",
   "nbconvert_exporter": "python",
   "pygments_lexer": "ipython3",
   "version": "3.9.12"
  }
 },
 "nbformat": 4,
 "nbformat_minor": 2
}
